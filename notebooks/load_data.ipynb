{
 "cells": [
  {
   "cell_type": "markdown",
   "metadata": {},
   "source": [
    "# *Install Libraries* "
   ]
  },
  {
   "cell_type": "code",
   "execution_count": 1,
   "metadata": {},
   "outputs": [
    {
     "name": "stdout",
     "output_type": "stream",
     "text": [
      "Requirement already satisfied: importlib in c:\\users\\juanj\\desktop\\etl\\workshops\\workshop_1\\.venv\\lib\\site-packages (from -r ../config/requirements.txt (line 1)) (1.0.4)\n",
      "Requirement already satisfied: matplotlib in c:\\users\\juanj\\desktop\\etl\\workshops\\workshop_1\\.venv\\lib\\site-packages (from -r ../config/requirements.txt (line 2)) (3.8.3)\n",
      "Requirement already satisfied: numpy in c:\\users\\juanj\\desktop\\etl\\workshops\\workshop_1\\.venv\\lib\\site-packages (from -r ../config/requirements.txt (line 3)) (1.26.4)\n",
      "Requirement already satisfied: pandas in c:\\users\\juanj\\desktop\\etl\\workshops\\workshop_1\\.venv\\lib\\site-packages (from -r ../config/requirements.txt (line 4)) (2.2.1)\n",
      "Requirement already satisfied: pip in c:\\users\\juanj\\desktop\\etl\\workshops\\workshop_1\\.venv\\lib\\site-packages (from -r ../config/requirements.txt (line 5)) (24.0)\n",
      "Requirement already satisfied: psycopg2-binary in c:\\users\\juanj\\desktop\\etl\\workshops\\workshop_1\\.venv\\lib\\site-packages (from -r ../config/requirements.txt (line 6)) (2.9.9)\n",
      "Requirement already satisfied: sqlalchemy in c:\\users\\juanj\\desktop\\etl\\workshops\\workshop_1\\.venv\\lib\\site-packages (from -r ../config/requirements.txt (line 7)) (2.0.27)\n",
      "Requirement already satisfied: sqlalchemy-utils in c:\\users\\juanj\\desktop\\etl\\workshops\\workshop_1\\.venv\\lib\\site-packages (from -r ../config/requirements.txt (line 8)) (0.41.1)\n",
      "Requirement already satisfied: mysqlclient in c:\\users\\juanj\\desktop\\etl\\workshops\\workshop_1\\.venv\\lib\\site-packages (from -r ../config/requirements.txt (line 9)) (2.2.4)\n",
      "Requirement already satisfied: contourpy>=1.0.1 in c:\\users\\juanj\\desktop\\etl\\workshops\\workshop_1\\.venv\\lib\\site-packages (from matplotlib->-r ../config/requirements.txt (line 2)) (1.2.0)\n",
      "Requirement already satisfied: cycler>=0.10 in c:\\users\\juanj\\desktop\\etl\\workshops\\workshop_1\\.venv\\lib\\site-packages (from matplotlib->-r ../config/requirements.txt (line 2)) (0.12.1)\n",
      "Requirement already satisfied: fonttools>=4.22.0 in c:\\users\\juanj\\desktop\\etl\\workshops\\workshop_1\\.venv\\lib\\site-packages (from matplotlib->-r ../config/requirements.txt (line 2)) (4.49.0)\n",
      "Requirement already satisfied: kiwisolver>=1.3.1 in c:\\users\\juanj\\desktop\\etl\\workshops\\workshop_1\\.venv\\lib\\site-packages (from matplotlib->-r ../config/requirements.txt (line 2)) (1.4.5)\n",
      "Requirement already satisfied: packaging>=20.0 in c:\\users\\juanj\\desktop\\etl\\workshops\\workshop_1\\.venv\\lib\\site-packages (from matplotlib->-r ../config/requirements.txt (line 2)) (23.2)\n",
      "Requirement already satisfied: pillow>=8 in c:\\users\\juanj\\desktop\\etl\\workshops\\workshop_1\\.venv\\lib\\site-packages (from matplotlib->-r ../config/requirements.txt (line 2)) (10.2.0)\n",
      "Requirement already satisfied: pyparsing>=2.3.1 in c:\\users\\juanj\\desktop\\etl\\workshops\\workshop_1\\.venv\\lib\\site-packages (from matplotlib->-r ../config/requirements.txt (line 2)) (3.1.1)\n",
      "Requirement already satisfied: python-dateutil>=2.7 in c:\\users\\juanj\\desktop\\etl\\workshops\\workshop_1\\.venv\\lib\\site-packages (from matplotlib->-r ../config/requirements.txt (line 2)) (2.9.0.post0)\n",
      "Requirement already satisfied: pytz>=2020.1 in c:\\users\\juanj\\desktop\\etl\\workshops\\workshop_1\\.venv\\lib\\site-packages (from pandas->-r ../config/requirements.txt (line 4)) (2024.1)\n",
      "Requirement already satisfied: tzdata>=2022.7 in c:\\users\\juanj\\desktop\\etl\\workshops\\workshop_1\\.venv\\lib\\site-packages (from pandas->-r ../config/requirements.txt (line 4)) (2024.1)\n",
      "Requirement already satisfied: typing-extensions>=4.6.0 in c:\\users\\juanj\\desktop\\etl\\workshops\\workshop_1\\.venv\\lib\\site-packages (from sqlalchemy->-r ../config/requirements.txt (line 7)) (4.10.0)\n",
      "Requirement already satisfied: greenlet!=0.4.17 in c:\\users\\juanj\\desktop\\etl\\workshops\\workshop_1\\.venv\\lib\\site-packages (from sqlalchemy->-r ../config/requirements.txt (line 7)) (3.0.3)\n",
      "Requirement already satisfied: six>=1.5 in c:\\users\\juanj\\desktop\\etl\\workshops\\workshop_1\\.venv\\lib\\site-packages (from python-dateutil>=2.7->matplotlib->-r ../config/requirements.txt (line 2)) (1.16.0)\n",
      "Note: you may need to restart the kernel to use updated packages.\n"
     ]
    }
   ],
   "source": [
    "pip install -r ../config/requirements.txt"
   ]
  },
  {
   "cell_type": "markdown",
   "metadata": {},
   "source": [
    "# *Import Libraries*"
   ]
  },
  {
   "cell_type": "code",
   "execution_count": 2,
   "metadata": {},
   "outputs": [],
   "source": [
    "import importlib.util\n",
    "import pandas as pd\n",
    "import json\n",
    "from sqlalchemy import create_engine\n",
    "from sqlalchemy.orm import sessionmaker\n",
    "from sqlalchemy_utils import create_database, database_exists\n",
    "\n",
    "spec = importlib.util.spec_from_file_location(\"model_structure\", \"../db_model/models_structure.py\")\n",
    "model_structure = importlib.util.module_from_spec(spec)\n",
    "spec.loader.exec_module(model_structure)"
   ]
  },
  {
   "cell_type": "markdown",
   "metadata": {},
   "source": [
    "# *Processing Data*\n",
    "\n",
    "### *Reading* ###"
   ]
  },
  {
   "cell_type": "code",
   "execution_count": 3,
   "metadata": {},
   "outputs": [],
   "source": [
    "candidates_dataframe = pd.read_csv(\"../data/candidates.csv\", sep = \";\")"
   ]
  },
  {
   "cell_type": "code",
   "execution_count": 4,
   "metadata": {},
   "outputs": [
    {
     "name": "stdout",
     "output_type": "stream",
     "text": [
      "<class 'pandas.core.frame.DataFrame'>\n",
      "RangeIndex: 50000 entries, 0 to 49999\n",
      "Data columns (total 10 columns):\n",
      " #   Column                     Non-Null Count  Dtype \n",
      "---  ------                     --------------  ----- \n",
      " 0   First Name                 50000 non-null  object\n",
      " 1   Last Name                  50000 non-null  object\n",
      " 2   Email                      50000 non-null  object\n",
      " 3   Application Date           50000 non-null  object\n",
      " 4   Country                    50000 non-null  object\n",
      " 5   YOE                        50000 non-null  int64 \n",
      " 6   Seniority                  50000 non-null  object\n",
      " 7   Technology                 50000 non-null  object\n",
      " 8   Code Challenge Score       50000 non-null  int64 \n",
      " 9   Technical Interview Score  50000 non-null  int64 \n",
      "dtypes: int64(3), object(7)\n",
      "memory usage: 3.8+ MB\n"
     ]
    }
   ],
   "source": [
    "candidates_dataframe.info()"
   ]
  },
  {
   "cell_type": "markdown",
   "metadata": {},
   "source": [
    "*Seeing the names of the columns, a renaming will be done to have a better structure.*\n",
    "\n",
    "*It can also be appreciated that there are no null data and that we work with objects and integers.*"
   ]
  },
  {
   "cell_type": "code",
   "execution_count": 5,
   "metadata": {},
   "outputs": [],
   "source": [
    "columns_name = ['first_name', 'last_name', 'email', 'applicant_date', 'country', \n",
    "'experience_year', 'seniority', 'technology', 'code_challenge_score', 'technical_interview_score']\n",
    "candidates_dataframe.columns = columns_name\n",
    "candidates_dataframe.index += 1\n",
    "candidates_dataframe.reset_index(inplace=True)\n",
    "candidates_dataframe.rename(columns={'index': 'id'}, inplace=True)"
   ]
  },
  {
   "cell_type": "markdown",
   "metadata": {},
   "source": [
    "### *Creating DataBase Connection* ###"
   ]
  },
  {
   "cell_type": "code",
   "execution_count": 6,
   "metadata": {},
   "outputs": [],
   "source": [
    "with open('../config/credentials.json', 'r') as json_file:\n",
    "    data = json.load(json_file)\n",
    "    host = data[\"host\"]\n",
    "    database = data[\"database\"]\n",
    "    user = data[\"user\"]\n",
    "    password = data[\"password\"]\n",
    "\n",
    "database_connection = f\"mysql://{user}:{password}@{host}/{database}\"\n",
    "engine = create_engine(database_connection)\n",
    "if not database_exists(engine.url):\n",
    "    create_database(engine.url)\n",
    "\n",
    "model_structure.BASE.metadata.drop_all(engine)\n",
    "model_structure.BASE.metadata.create_all(engine)"
   ]
  },
  {
   "cell_type": "markdown",
   "metadata": {},
   "source": [
    "### *Upload Data to Data Base* ###"
   ]
  },
  {
   "cell_type": "code",
   "execution_count": 7,
   "metadata": {},
   "outputs": [
    {
     "data": {
      "text/plain": [
       "50000"
      ]
     },
     "execution_count": 7,
     "metadata": {},
     "output_type": "execute_result"
    }
   ],
   "source": [
    "candidates_dataframe.to_sql(\"candidates\", engine, if_exists='replace', index=False)"
   ]
  },
  {
   "cell_type": "markdown",
   "metadata": {},
   "source": [
    "### *Check Uploaded Data* ###"
   ]
  },
  {
   "cell_type": "markdown",
   "metadata": {},
   "source": [
    "![Loaded Data](../notebooks/Loaded%20Data.png)"
   ]
  },
  {
   "cell_type": "markdown",
   "metadata": {},
   "source": [
    "*Here, it can already be seen how the data has been loaded into the database and are ready to start with their subsequent analysis.*"
   ]
  }
 ],
 "metadata": {
  "kernelspec": {
   "display_name": ".venv",
   "language": "python",
   "name": "python3"
  },
  "language_info": {
   "codemirror_mode": {
    "name": "ipython",
    "version": 3
   },
   "file_extension": ".py",
   "mimetype": "text/x-python",
   "name": "python",
   "nbconvert_exporter": "python",
   "pygments_lexer": "ipython3",
   "version": "3.11.8"
  }
 },
 "nbformat": 4,
 "nbformat_minor": 2
}
